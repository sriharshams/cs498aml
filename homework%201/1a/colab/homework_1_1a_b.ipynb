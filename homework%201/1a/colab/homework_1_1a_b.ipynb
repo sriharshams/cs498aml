{
  "nbformat": 4,
  "nbformat_minor": 0,
  "metadata": {
    "colab": {
      "name": "homework_1_1a_b.ipynb",
      "version": "0.3.2",
      "provenance": [],
      "collapsed_sections": [],
      "include_colab_link": true
    },
    "kernelspec": {
      "name": "python3",
      "display_name": "Python 3"
    },
    "accelerator": "GPU"
  },
  "cells": [
    {
      "cell_type": "markdown",
      "metadata": {
        "id": "view-in-github",
        "colab_type": "text"
      },
      "source": [
        "<a href=\"https://colab.research.google.com/github/sriharshams/cs498aml/blob/master/homework%25201/1a/colab/homework_1_1a_b.ipynb\" target=\"_parent\"><img src=\"https://colab.research.google.com/assets/colab-badge.svg\" alt=\"Open In Colab\"/></a>"
      ]
    },
    {
      "metadata": {
        "id": "Fi4COM4M9yGV",
        "colab_type": "text"
      },
      "cell_type": "markdown",
      "source": [
        "# Homework 1: Classification With Naive Bayes\n",
        "\n"
      ]
    },
    {
      "metadata": {
        "id": "6N1SrFOn-tBJ",
        "colab_type": "text"
      },
      "cell_type": "markdown",
      "source": [
        "## Problem 1: Diabetes Classification\n",
        "\n",
        "Points: 40\n",
        "\n",
        "A famous collection of data on whether a patient has diabetes, known as the Pima Indians dataset, and originally owned by the National Institute of Diabetes and Digestive and Kidney Diseases can be found at Kaggle. Download this dataset from https://www.kaggle.com/kumargh/pimaindiansdiabetescsv. This data has a set of attributes of patients, and a categorical variable telling whether the patient is diabetic or not. For several attributes in this data set, a value of 0 may indicate a missing value of the variable. There are a total of 767 data-points.\n",
        "\n"
      ]
    },
    {
      "metadata": {
        "id": "1-f4BABS-v-t",
        "colab_type": "text"
      },
      "cell_type": "markdown",
      "source": [
        "## Part 1A \n",
        "Build a simple naive Bayes classifier to classify this data set. You should use a normal distribution to model each of the class-conditional distributions.\n",
        "\n",
        "Compute an estimate of the accuracy of the classifier by averaging over 10 test-train splits. Each split should randomly assign 20% of the data to test, and the rest to train.\n",
        "You should write this classifier and the test-train split code yourself (it's quite straight-forward).  Libraries can be used to load & hold the data.\n"
      ]
    },
    {
      "metadata": {
        "id": "Ijskeolk-zKP",
        "colab_type": "text"
      },
      "cell_type": "markdown",
      "source": [
        "### Answer Part 1A\n",
        "\n",
        "To build a somple naive Bayes classifier to classify Pima Indians dataset. We will be using Python 3 in Google Colab.\n",
        "\n"
      ]
    },
    {
      "metadata": {
        "id": "zlj6Uo78-3UP",
        "colab_type": "text"
      },
      "cell_type": "markdown",
      "source": [
        "#### Set up\n",
        "\n",
        "Load required libraries\n"
      ]
    },
    {
      "metadata": {
        "id": "dxgEimS8-Zm5",
        "colab_type": "code",
        "colab": {}
      },
      "cell_type": "code",
      "source": [
        "import pandas as pd\n",
        "import numpy as np\n",
        "import math\n",
        "from scipy.stats import norm\n",
        "\n",
        "import pandas_profiling\n",
        "\n",
        "import pickle\n",
        "\n",
        "import matplotlib.pyplot as plt\n",
        "%matplotlib inline\n",
        "\n",
        "import warnings\n",
        "warnings.filterwarnings(\"ignore\")"
      ],
      "execution_count": 0,
      "outputs": []
    },
    {
      "metadata": {
        "id": "yudeTpFg-kMd",
        "colab_type": "text"
      },
      "cell_type": "markdown",
      "source": [
        "#### Load dataset\n",
        "\n",
        "Access https://www.kaggle.com/kumargh/pimaindiansdiabetescsv, download the dataset, it will download pimaindiansdiabetescsv.zip.\n",
        "\n",
        "\n",
        "\n"
      ]
    },
    {
      "metadata": {
        "id": "GRGrhZ5xC2g5",
        "colab_type": "text"
      },
      "cell_type": "markdown",
      "source": [
        "##### Dataset dictionary\n",
        "\n",
        "Following are the datset details as per kaggle.\n",
        "\n",
        "About this file\n",
        "This dataset describes the medical records for Pima Indians and whether or not each patient will have an onset of diabetes within \fve years.\n",
        "\n",
        "Fields description follow:\n",
        "\n",
        "preg = Number of times pregnant\n",
        "\n",
        "plas = Plasma glucose concentration a 2 hours in an oral glucose tolerance test\n",
        "\n",
        "pres = Diastolic blood pressure (mm Hg)\n",
        "\n",
        "skin = Triceps skin fold thickness (mm)\n",
        "\n",
        "test = 2-Hour serum insulin (mu U/ml)\n",
        "\n",
        "mass = Body mass index (weight in kg/(height in m)^2)\n",
        "\n",
        "pedi = Diabetes pedigree function\n",
        "\n",
        "age = Age (years)\n",
        "\n",
        "class = Class variable (1:tested positive for diabetes, 0: tested negative for diabetes)\n",
        "\n",
        "\n",
        "\n",
        "Columns, first row is sample data, ignoring to obtain dataset of rows 767, as mentioned in home work assignment link.\n",
        "\n",
        "6 Pregnancies\n",
        "\n",
        "148 Glucose\n",
        "\n",
        "72 BloodPressure\n",
        "\n",
        "35 SkinThickness\n",
        "\n",
        "0 Insulin\n",
        "\n",
        "33.6 BMI\n",
        "\n",
        "0.627 DiabetesPedigreeFunction\n",
        "\n",
        "50 Age\n",
        "\n",
        "1 Class\n",
        "\n"
      ]
    },
    {
      "metadata": {
        "id": "dTArnj7-C8jI",
        "colab_type": "text"
      },
      "cell_type": "markdown",
      "source": [
        "To access the dataset in Google Colab you can either use Github or Google Drive. We will be accessing dataset via Google Drive. Unzip the pimaindiansdiabetescsv.zip, add pima-indians-diabetes.csv to a known folder in Google Drive, this folder path in drive will be accessed later to load dataset.\n",
        "\n",
        "\n",
        "We added the pima-indians-diabetes.csv to Google Drive folder /My Drive/UISC-MCS-DS/CS498AML/homework_1/1a/data/."
      ]
    },
    {
      "metadata": {
        "id": "AtxTKvC-A1zJ",
        "colab_type": "text"
      },
      "cell_type": "markdown",
      "source": [
        "*   Mount Google Drive to access data Note: This is not required if you are not using Google colab\n",
        "\n"
      ]
    },
    {
      "metadata": {
        "id": "fJ4mDDgm-gLW",
        "colab_type": "code",
        "outputId": "95ad44c8-2788-4428-bc05-521ad177e7b0",
        "colab": {
          "base_uri": "https://localhost:8080/",
          "height": 34
        }
      },
      "cell_type": "code",
      "source": [
        "from google.colab import drive\n",
        "drive.mount('/content/gdrive')"
      ],
      "execution_count": 0,
      "outputs": [
        {
          "output_type": "stream",
          "text": [
            "Drive already mounted at /content/gdrive; to attempt to forcibly remount, call drive.mount(\"/content/gdrive\", force_remount=True).\n"
          ],
          "name": "stdout"
        }
      ]
    },
    {
      "metadata": {
        "id": "Wt_hVDA2BYwc",
        "colab_type": "text"
      },
      "cell_type": "markdown",
      "source": [
        "Load pima-indians-diabetes.csv Dataset and save it as a pickle object"
      ]
    },
    {
      "metadata": {
        "id": "pmLe23g_BC3N",
        "colab_type": "code",
        "outputId": "00947b61-2e52-48dc-9dd7-0cfc4cee7248",
        "colab": {
          "base_uri": "https://localhost:8080/",
          "height": 204
        }
      },
      "cell_type": "code",
      "source": [
        "pima_indias_diabetes_data = pd.read_csv(\"/content/gdrive/My Drive/UIUC-MCS-DS/CS498AML/homework_1/1a/data/pima-indians-diabetes.csv\")\n",
        "pickle.dump(pima_indias_diabetes_data, open( '/content/gdrive/My Drive/UIUC-MCS-DS/CS498AML/homework_1/1a/data/pima_indias_diabetes_data.pkl','wb'))\n",
        "pima_indias_diabetes_data.head()"
      ],
      "execution_count": 0,
      "outputs": [
        {
          "output_type": "execute_result",
          "data": {
            "text/html": [
              "<div>\n",
              "<style scoped>\n",
              "    .dataframe tbody tr th:only-of-type {\n",
              "        vertical-align: middle;\n",
              "    }\n",
              "\n",
              "    .dataframe tbody tr th {\n",
              "        vertical-align: top;\n",
              "    }\n",
              "\n",
              "    .dataframe thead th {\n",
              "        text-align: right;\n",
              "    }\n",
              "</style>\n",
              "<table border=\"1\" class=\"dataframe\">\n",
              "  <thead>\n",
              "    <tr style=\"text-align: right;\">\n",
              "      <th></th>\n",
              "      <th>6</th>\n",
              "      <th>148</th>\n",
              "      <th>72</th>\n",
              "      <th>35</th>\n",
              "      <th>0</th>\n",
              "      <th>33.6</th>\n",
              "      <th>0.627</th>\n",
              "      <th>50</th>\n",
              "      <th>1</th>\n",
              "    </tr>\n",
              "  </thead>\n",
              "  <tbody>\n",
              "    <tr>\n",
              "      <th>0</th>\n",
              "      <td>1</td>\n",
              "      <td>85</td>\n",
              "      <td>66</td>\n",
              "      <td>29</td>\n",
              "      <td>0</td>\n",
              "      <td>26.6</td>\n",
              "      <td>0.351</td>\n",
              "      <td>31</td>\n",
              "      <td>0</td>\n",
              "    </tr>\n",
              "    <tr>\n",
              "      <th>1</th>\n",
              "      <td>8</td>\n",
              "      <td>183</td>\n",
              "      <td>64</td>\n",
              "      <td>0</td>\n",
              "      <td>0</td>\n",
              "      <td>23.3</td>\n",
              "      <td>0.672</td>\n",
              "      <td>32</td>\n",
              "      <td>1</td>\n",
              "    </tr>\n",
              "    <tr>\n",
              "      <th>2</th>\n",
              "      <td>1</td>\n",
              "      <td>89</td>\n",
              "      <td>66</td>\n",
              "      <td>23</td>\n",
              "      <td>94</td>\n",
              "      <td>28.1</td>\n",
              "      <td>0.167</td>\n",
              "      <td>21</td>\n",
              "      <td>0</td>\n",
              "    </tr>\n",
              "    <tr>\n",
              "      <th>3</th>\n",
              "      <td>0</td>\n",
              "      <td>137</td>\n",
              "      <td>40</td>\n",
              "      <td>35</td>\n",
              "      <td>168</td>\n",
              "      <td>43.1</td>\n",
              "      <td>2.288</td>\n",
              "      <td>33</td>\n",
              "      <td>1</td>\n",
              "    </tr>\n",
              "    <tr>\n",
              "      <th>4</th>\n",
              "      <td>5</td>\n",
              "      <td>116</td>\n",
              "      <td>74</td>\n",
              "      <td>0</td>\n",
              "      <td>0</td>\n",
              "      <td>25.6</td>\n",
              "      <td>0.201</td>\n",
              "      <td>30</td>\n",
              "      <td>0</td>\n",
              "    </tr>\n",
              "  </tbody>\n",
              "</table>\n",
              "</div>"
            ],
            "text/plain": [
              "   6  148  72  35    0  33.6  0.627  50  1\n",
              "0  1   85  66  29    0  26.6  0.351  31  0\n",
              "1  8  183  64   0    0  23.3  0.672  32  1\n",
              "2  1   89  66  23   94  28.1  0.167  21  0\n",
              "3  0  137  40  35  168  43.1  2.288  33  1\n",
              "4  5  116  74   0    0  25.6  0.201  30  0"
            ]
          },
          "metadata": {
            "tags": []
          },
          "execution_count": 3
        }
      ]
    },
    {
      "metadata": {
        "id": "QPz_01WcCQcl",
        "colab_type": "text"
      },
      "cell_type": "markdown",
      "source": [
        "#### Exploratory Data Analysis\n",
        "\n"
      ]
    },
    {
      "metadata": {
        "id": "JSUWBp7rCepn",
        "colab_type": "text"
      },
      "cell_type": "markdown",
      "source": [
        "##### Validate dataset"
      ]
    },
    {
      "metadata": {
        "id": "xcb1-lG3B8aa",
        "colab_type": "code",
        "outputId": "8aa99d1c-f360-49ae-adbe-fbb8988edb44",
        "colab": {
          "base_uri": "https://localhost:8080/",
          "height": 204
        }
      },
      "cell_type": "code",
      "source": [
        "# rename column names\n",
        "pima_indias_diabetes_data.columns = ['Pregnancies', 'Glucose', 'BloodPressure', 'SkinThickness', 'Insulin', 'BMI', 'DiabetesPedigreeFunction', 'Age', 'Class']\n",
        "pima_indias_diabetes_data.head()"
      ],
      "execution_count": 0,
      "outputs": [
        {
          "output_type": "execute_result",
          "data": {
            "text/html": [
              "<div>\n",
              "<style scoped>\n",
              "    .dataframe tbody tr th:only-of-type {\n",
              "        vertical-align: middle;\n",
              "    }\n",
              "\n",
              "    .dataframe tbody tr th {\n",
              "        vertical-align: top;\n",
              "    }\n",
              "\n",
              "    .dataframe thead th {\n",
              "        text-align: right;\n",
              "    }\n",
              "</style>\n",
              "<table border=\"1\" class=\"dataframe\">\n",
              "  <thead>\n",
              "    <tr style=\"text-align: right;\">\n",
              "      <th></th>\n",
              "      <th>Pregnancies</th>\n",
              "      <th>Glucose</th>\n",
              "      <th>BloodPressure</th>\n",
              "      <th>SkinThickness</th>\n",
              "      <th>Insulin</th>\n",
              "      <th>BMI</th>\n",
              "      <th>DiabetesPedigreeFunction</th>\n",
              "      <th>Age</th>\n",
              "      <th>Class</th>\n",
              "    </tr>\n",
              "  </thead>\n",
              "  <tbody>\n",
              "    <tr>\n",
              "      <th>0</th>\n",
              "      <td>1</td>\n",
              "      <td>85</td>\n",
              "      <td>66</td>\n",
              "      <td>29</td>\n",
              "      <td>0</td>\n",
              "      <td>26.6</td>\n",
              "      <td>0.351</td>\n",
              "      <td>31</td>\n",
              "      <td>0</td>\n",
              "    </tr>\n",
              "    <tr>\n",
              "      <th>1</th>\n",
              "      <td>8</td>\n",
              "      <td>183</td>\n",
              "      <td>64</td>\n",
              "      <td>0</td>\n",
              "      <td>0</td>\n",
              "      <td>23.3</td>\n",
              "      <td>0.672</td>\n",
              "      <td>32</td>\n",
              "      <td>1</td>\n",
              "    </tr>\n",
              "    <tr>\n",
              "      <th>2</th>\n",
              "      <td>1</td>\n",
              "      <td>89</td>\n",
              "      <td>66</td>\n",
              "      <td>23</td>\n",
              "      <td>94</td>\n",
              "      <td>28.1</td>\n",
              "      <td>0.167</td>\n",
              "      <td>21</td>\n",
              "      <td>0</td>\n",
              "    </tr>\n",
              "    <tr>\n",
              "      <th>3</th>\n",
              "      <td>0</td>\n",
              "      <td>137</td>\n",
              "      <td>40</td>\n",
              "      <td>35</td>\n",
              "      <td>168</td>\n",
              "      <td>43.1</td>\n",
              "      <td>2.288</td>\n",
              "      <td>33</td>\n",
              "      <td>1</td>\n",
              "    </tr>\n",
              "    <tr>\n",
              "      <th>4</th>\n",
              "      <td>5</td>\n",
              "      <td>116</td>\n",
              "      <td>74</td>\n",
              "      <td>0</td>\n",
              "      <td>0</td>\n",
              "      <td>25.6</td>\n",
              "      <td>0.201</td>\n",
              "      <td>30</td>\n",
              "      <td>0</td>\n",
              "    </tr>\n",
              "  </tbody>\n",
              "</table>\n",
              "</div>"
            ],
            "text/plain": [
              "   Pregnancies  Glucose  BloodPressure  SkinThickness  Insulin   BMI  \\\n",
              "0            1       85             66             29        0  26.6   \n",
              "1            8      183             64              0        0  23.3   \n",
              "2            1       89             66             23       94  28.1   \n",
              "3            0      137             40             35      168  43.1   \n",
              "4            5      116             74              0        0  25.6   \n",
              "\n",
              "   DiabetesPedigreeFunction  Age  Class  \n",
              "0                     0.351   31      0  \n",
              "1                     0.672   32      1  \n",
              "2                     0.167   21      0  \n",
              "3                     2.288   33      1  \n",
              "4                     0.201   30      0  "
            ]
          },
          "metadata": {
            "tags": []
          },
          "execution_count": 4
        }
      ]
    },
    {
      "metadata": {
        "id": "2p4JgJYTFA53",
        "colab_type": "code",
        "outputId": "1547e3ff-dc87-4dcd-fe0a-b1ce45872788",
        "colab": {
          "base_uri": "https://localhost:8080/",
          "height": 34
        }
      },
      "cell_type": "code",
      "source": [
        "# count number of dataset\n",
        "print(\"There are a total of\", len(pima_indias_diabetes_data),\"data-points\")"
      ],
      "execution_count": 0,
      "outputs": [
        {
          "output_type": "stream",
          "text": [
            "There are a total of 767 data-points\n"
          ],
          "name": "stdout"
        }
      ]
    },
    {
      "metadata": {
        "id": "n-nePvedFWAB",
        "colab_type": "code",
        "outputId": "41e81a51-6ebc-4f1d-dc07-8a5ef54930f6",
        "colab": {
          "base_uri": "https://localhost:8080/",
          "height": 51
        }
      },
      "cell_type": "code",
      "source": [
        "pima_indias_diabetes_data_features = pima_indias_diabetes_data[['Pregnancies', 'Glucose', 'BloodPressure', 'SkinThickness', 'Insulin', 'BMI', 'DiabetesPedigreeFunction', 'Age']]\n",
        "pima_indias_diabetes_data_labels = pima_indias_diabetes_data[['Class']]\n",
        "print(pima_indias_diabetes_data_features.shape)\n",
        "print(pima_indias_diabetes_data_labels.shape)"
      ],
      "execution_count": 0,
      "outputs": [
        {
          "output_type": "stream",
          "text": [
            "(767, 8)\n",
            "(767, 1)\n"
          ],
          "name": "stdout"
        }
      ]
    },
    {
      "metadata": {
        "id": "REI1ZY1LHi7D",
        "colab_type": "text"
      },
      "cell_type": "markdown",
      "source": [
        "There are 767 observations of 8 different features.\n",
        "\n"
      ]
    },
    {
      "metadata": {
        "id": "3mybH9ZCLnUv",
        "colab_type": "text"
      },
      "cell_type": "markdown",
      "source": [
        "##### Analyse label"
      ]
    },
    {
      "metadata": {
        "id": "pXMHHYM3Hb_U",
        "colab_type": "code",
        "outputId": "8a469963-7f84-44a6-f373-de1eef77d3b5",
        "colab": {
          "base_uri": "https://localhost:8080/",
          "height": 358
        }
      },
      "cell_type": "code",
      "source": [
        "count_classes = pd.value_counts(pima_indias_diabetes_data['Class'], sort = True).sort_index()\n",
        "count_classes.plot(kind = 'bar')\n",
        "plt.title(\"Pima Indians diabetes class histogram\")\n",
        "plt.xlabel(\"Class\")\n",
        "plt.ylabel(\"Frequency\")\n",
        "\n",
        "# 284315 normal transactions (class 0)\n",
        "# 492 fraud transactions (class 1)\n",
        "\n",
        "pima_indias_diabetes_data.groupby('Class')['Class'].count()"
      ],
      "execution_count": 0,
      "outputs": [
        {
          "output_type": "execute_result",
          "data": {
            "text/plain": [
              "Class\n",
              "0    500\n",
              "1    267\n",
              "Name: Class, dtype: int64"
            ]
          },
          "metadata": {
            "tags": []
          },
          "execution_count": 7
        },
        {
          "output_type": "display_data",
          "data": {
            "image/png": "[encoded data removed]",
            "text/plain": [
              "<Figure size 432x288 with 1 Axes>"
            ]
          },
          "metadata": {
            "tags": []
          }
        }
      ]
    },
    {
      "metadata": {
        "id": "ZukGC_1_K9II",
        "colab_type": "text"
      },
      "cell_type": "markdown",
      "source": [
        "There are 500 Pima Indians 0: tested negative for diabetes, 267 :tested positive for diabetes. "
      ]
    },
    {
      "metadata": {
        "id": "bUjuoPMCLiIZ",
        "colab_type": "text"
      },
      "cell_type": "markdown",
      "source": [
        "##### Data distribution analysis for each feature and class label\n",
        "\n",
        "Plot the data by each feature"
      ]
    },
    {
      "metadata": {
        "id": "mn3mxMhmH30m",
        "colab_type": "code",
        "outputId": "2a12d4bc-ef9f-44a4-d77b-ea8bfb01f95f",
        "colab": {
          "base_uri": "https://localhost:8080/",
          "height": 302
        }
      },
      "cell_type": "code",
      "source": [
        "axarr = [[]]*len(pima_indias_diabetes_data_features.columns)\n",
        "columns = 4\n",
        "rows = int( np.ceil( len(pima_indias_diabetes_data_features.columns) / columns ) )\n",
        "f, fig = plt.subplots( figsize=(columns*3.5, rows*2) )\n",
        "\n",
        "f.suptitle('Data Distributions by Feature and Class', size=16)\n",
        "\n",
        "for i, col in enumerate(pima_indias_diabetes_data_features.columns[:]):\n",
        "    axarr[i] = plt.subplot2grid( (int(rows), int(columns)), (int(i//columns), int(i%columns)) )\n",
        "    axarr[i].hist( [ pima_indias_diabetes_data.loc[ pima_indias_diabetes_data.Class == 0, col ], pima_indias_diabetes_data.loc[ pima_indias_diabetes_data.Class == 1, col ] ], label=['tested negative','tested positive'], \n",
        "                          bins=np.linspace( np.percentile(pima_indias_diabetes_data[col],0.1), np.percentile(pima_indias_diabetes_data[col],99.9), 30 ),\n",
        "                          normed=True )\n",
        "    axarr[i].set_xlabel(col, size=12)\n",
        "    axarr[i].set_ylim([0,0.8])\n",
        "    axarr[i].tick_params(axis='both', labelsize=10)\n",
        "    if i == 0: \n",
        "        legend = axarr[i].legend()\n",
        "        legend.get_frame().set_facecolor('white')\n",
        "    if i%4 != 0 : \n",
        "        axarr[i].tick_params(axis='y', left='off', labelleft='off')\n",
        "    else:\n",
        "        axarr[i].set_ylabel('Fraction',size=12)\n",
        "\n",
        "plt.tight_layout(rect=[0,0,1,0.95]) # xmin, ymin, xmax, ymax\n",
        "plt.show()"
      ],
      "execution_count": 0,
      "outputs": [
        {
          "output_type": "display_data",
          "data": {
            "image/png": "[encoded data removed]",
            "text/plain": [
              "<Figure size 1008x288 with 8 Axes>"
            ]
          },
          "metadata": {
            "tags": []
          }
        }
      ]
    },
    {
      "metadata": {
        "id": "7-nG4djwM9jo",
        "colab_type": "text"
      },
      "cell_type": "markdown",
      "source": [
        "#### Classify Dataset - Build a simple naive Bayes classifier "
      ]
    },
    {
      "metadata": {
        "id": "wfB5dHLJPVlj",
        "colab_type": "text"
      },
      "cell_type": "markdown",
      "source": [
        "##### Split data\n"
      ]
    },
    {
      "metadata": {
        "id": "TzNlGTpKMN-x",
        "colab_type": "code",
        "colab": {}
      },
      "cell_type": "code",
      "source": [
        "\n",
        "def train_test_split(features, labels, test_size=0.2):\n",
        "    np.random.seed(4)\n",
        "    id = np.random.rand(len(features))>test_size\n",
        "    #print(id)\n",
        "    features_train = features[id]\n",
        "    labels_train = labels[id]\n",
        "    features_test = features[np.invert(id)]\n",
        "    labels_test = labels[np.invert(id)]\n",
        "    return features_train, labels_train, features_test, labels_test\n",
        "\n",
        "\n",
        "features = pima_indias_diabetes_data.drop('Class', axis = 1)\n",
        "labels = pima_indias_diabetes_data['Class']\n",
        "\n",
        "\n",
        "\n"
      ],
      "execution_count": 0,
      "outputs": []
    },
    {
      "metadata": {
        "id": "HoscPQLrnR7v",
        "colab_type": "text"
      },
      "cell_type": "markdown",
      "source": [
        "#### Gaussian Naive Bayes classifier\n",
        "\n",
        "In Gaussian Naive Bayes, continuous values associated with each feature are assumed to be distributed according to a Gaussian distribution. A Gaussian distribution is also called Normal distribution. \n",
        "\n",
        "The likelihood of the features is assumed to be Gaussian, hence, conditional probability is given by:\n",
        "\n",
        " >$P(x_i | y) = \\frac{1}{\\sqrt{2\\pi\\sigma _{y}^{2} }} exp \\left (-\\frac{(x_i-\\mu _{y})^2}{2\\sigma _{y}^{2}}  \\right ) $\n",
        " \n",
        " we will use norm.pdf to calculate probablity density function."
      ]
    },
    {
      "metadata": {
        "id": "CVQlnwOMupyQ",
        "colab_type": "code",
        "colab": {}
      },
      "cell_type": "code",
      "source": [
        "class GaussianNaiveBayes():\n",
        "    \"\"\"The Gaussian Naive Bayes classifier. \"\"\"\n",
        "    def fit(self,features, labels):\n",
        "      \"\"\"\n",
        "      for each label and feature combination we need to calculate the std and mean value from the features & labels.\n",
        "      \"\"\"\n",
        "      self.min_std = 0.00000001\n",
        "      self.ntargets= np.unique(labels).shape[0]\n",
        "      self.target_labels = np.unique(labels)\n",
        "      self.nfeatures = features.shape[1]\n",
        "      self.means = np.zeros((self.ntargets,self.nfeatures))\n",
        "      self.stds = np.zeros((self.ntargets,self.nfeatures))\n",
        "      self.priors = np.zeros(self.ntargets)\n",
        "      for _index in range(self.ntargets):\n",
        "          # Get the boolean vector to filter for labels = i\n",
        "          where_label = [label==self.target_labels[_index] for label in labels]\n",
        "          self.means[_index] = np.nanmean(features[where_label],axis=0)\n",
        "          # To avoid devide by 0/very small value issue, add a min for standard deviation to min_std = 0.00000001\n",
        "          self.stds[_index] = np.clip(np.nanstd(features[where_label],axis=0),self.min_std,None)\n",
        "          #print(self.means[_index], self.stds[_index])\n",
        "          #Calculate the prior for given label \n",
        "          self.priors[_index] = np.log(np.sum(where_label)/len(labels))\n",
        "    \n",
        "    def predict(self,test_features):\n",
        "        \"\"\" Classification using Bayes Rule P(Y|X) = P(X|Y)*P(Y)/P(X),\n",
        "          or Posterior = Likelihood * Prior / Scaling Factor\n",
        "          P(Y|X) - The posterior is the probability that sample x is of class y given the\n",
        "                   feature values of x being distributed according to distribution of y and the prior.\n",
        "          P(X|Y) - Likelihood of data X given class distribution Y.\n",
        "                   Gaussian distribution (given by _calculate_likelihood)\n",
        "          P(Y)   - Prior (given by _calculate_prior)\n",
        "          P(X)   - Scales the posterior to make it a proper probability distribution.\n",
        "                   This term is ignored in this implementation since it doesn't affect\n",
        "                   which class distribution the sample is most likely to belong to.\n",
        "      Classifies the sample as the class that results in the largest P(Y|X) (posterior)\n",
        "      \"\"\"\n",
        "        test_samples = test_features.shape[0]\n",
        "        posterior = np.zeros((test_samples,self.ntargets))\n",
        "        # Naive assumption (independence):\n",
        "        # P(x1,x2,x3|Y) = P(x1|Y)*P(x2|Y)*P(x3|Y)\n",
        "        # Posterior is product of prior and likelihoods (ignoring scaling factor)\n",
        "        for target_label in range(self.ntargets):\n",
        "            posterior[:,target_label] = self.priors[target_label] + np.nansum(np.log(norm.pdf(test_features,self.means[target_label],self.stds[target_label])),axis=1)\n",
        "        label = self.target_labels[np.argmax(posterior, axis=1)]\n",
        "        return label    \n",
        "        \n",
        "    \n",
        "    def score(self,X_test, y_test):\n",
        "        y_predict = self.predict(X_test)\n",
        "        return (y_predict == y_test).mean()"
      ],
      "execution_count": 0,
      "outputs": []
    },
    {
      "metadata": {
        "id": "0XFbYpBOhU9Q",
        "colab_type": "text"
      },
      "cell_type": "markdown",
      "source": [
        "Compute an estimate of the accuracy of the classifier by averaging over 10 test-train splits. Each split should randomly assign 20% of the data to test, and the rest to train."
      ]
    },
    {
      "metadata": {
        "id": "3NdsDHVkVxJ0",
        "colab_type": "code",
        "outputId": "eb74b4fc-b7d8-4830-cd76-a92d3a8a8a9d",
        "colab": {
          "base_uri": "https://localhost:8080/",
          "height": 128
        }
      },
      "cell_type": "code",
      "source": [
        "print(features.shape)\n",
        "\n",
        "\n",
        "\n",
        "test_accuracy_iterations =[]\n",
        "# for 10 iterations\n",
        "for i in range(10):\n",
        "  features_train, labels_train, features_test, labels_test = train_test_split(features.values, \n",
        "                                 labels.values, test_size=0.2)\n",
        "  nb = GaussianNaiveBayes()\n",
        "\n",
        "  nb.fit(features_train, labels_train)\n",
        "  test_accuracy = nb.score(features_test, labels_test)\n",
        "  test_accuracy_iterations.append(test_accuracy)\n",
        "\n",
        "print(test_accuracy_iterations)\n",
        "print(\"Average test accuracy\", np.mean(test_accuracy_iterations))"
      ],
      "execution_count": 0,
      "outputs": [
        {
          "output_type": "stream",
          "text": [
            "(767, 8)\n",
            "[0.7724550898203593, 0.7724550898203593, 0.7724550898203593, 0.7724550898203593, 0.7724550898203593, 0.7724550898203593, 0.7724550898203593, 0.7724550898203593, 0.7724550898203593, 0.7724550898203593]\n",
            "Average test accuracy 0.7724550898203593\n"
          ],
          "name": "stdout"
        }
      ]
    },
    {
      "metadata": {
        "id": "JFuMVffKftF2",
        "colab_type": "text"
      },
      "cell_type": "markdown",
      "source": [
        "Validate using scikit learn naive bayes"
      ]
    },
    {
      "metadata": {
        "id": "hJpPkHFGfy8W",
        "colab_type": "code",
        "outputId": "cd456e9b-7078-4421-a0e1-ee57610463de",
        "colab": {
          "base_uri": "https://localhost:8080/",
          "height": 111
        }
      },
      "cell_type": "code",
      "source": [
        "from sklearn import naive_bayes\n",
        "\n",
        "test_accuracy_iterations =[]\n",
        "# for 10 iterations\n",
        "for i in range(10):\n",
        "  features_train, labels_train, features_test, labels_test = train_test_split(features.values, labels.values, test_size=0.2)\n",
        "  snb = naive_bayes.GaussianNB()\n",
        "\n",
        "  snb.fit(features_train, labels_train)\n",
        "  test_accuracy = snb.score(features_test, labels_test)\n",
        "  test_accuracy_iterations.append(test_accuracy)\n",
        "\n",
        "print(test_accuracy_iterations)\n",
        "print(\"Average test accuracy\", np.mean(test_accuracy_iterations))"
      ],
      "execution_count": 0,
      "outputs": [
        {
          "output_type": "stream",
          "text": [
            "[0.7724550898203593, 0.7724550898203593, 0.7724550898203593, 0.7724550898203593, 0.7724550898203593, 0.7724550898203593, 0.7724550898203593, 0.7724550898203593, 0.7724550898203593, 0.7724550898203593]\n",
            "Average test accuracy 0.7724550898203593\n"
          ],
          "name": "stdout"
        }
      ]
    },
    {
      "metadata": {
        "id": "bJcyrW4W-klR",
        "colab_type": "text"
      },
      "cell_type": "markdown",
      "source": [
        "## Part 1B\n",
        "\n",
        "Now adjust your code so that, for attribute 3 (Diastolic blood pressure), attribute 4 (Triceps skinfold thickness), attribute 6 (Body mass index), and attribute 8 (Age), it regards a value of 0 as a missing value when estimating the class-conditional distributions, and the posterior. \n",
        "\n",
        "*   Compute an estimate of the accuracy of the classifier by averaging over 10 test-train splits.\n",
        "\n",
        "\n"
      ]
    },
    {
      "metadata": {
        "id": "h2sKp3HD-sNC",
        "colab_type": "text"
      },
      "cell_type": "markdown",
      "source": [
        "### Answer Part 1B\n",
        "\n",
        "All the above work done for Part 1A will be reused for Part 1B.\n",
        "\n",
        "We will mainly be processing data to remove missing values which are 0."
      ]
    },
    {
      "metadata": {
        "id": "tRutb3be_wRs",
        "colab_type": "text"
      },
      "cell_type": "markdown",
      "source": [
        "Impute missing values 0 for attributes 3 (Diastolic blood pressure), attribute 4 (Triceps skinfold thickness), attribute 6 (Body mass index), and attribute 8 (Age) as np.NaN.\n",
        "\n",
        "Check how many missing values are present."
      ]
    },
    {
      "metadata": {
        "id": "ATRJKN2UAJO2",
        "colab_type": "code",
        "outputId": "594e4ff8-12ba-47a8-dff6-f975a6449b42",
        "colab": {
          "base_uri": "https://localhost:8080/",
          "height": 187
        }
      },
      "cell_type": "code",
      "source": [
        "pima_indias_diabetes_data[['BloodPressure','SkinThickness','BMI','Age']]= pima_indias_diabetes_data[['BloodPressure','SkinThickness','BMI','Age']].replace(0, np.NaN)\n",
        "\n",
        "print(pima_indias_diabetes_data.isnull().sum())"
      ],
      "execution_count": 0,
      "outputs": [
        {
          "output_type": "stream",
          "text": [
            "Pregnancies                   0\n",
            "Glucose                       0\n",
            "BloodPressure                35\n",
            "SkinThickness               227\n",
            "Insulin                       0\n",
            "BMI                          11\n",
            "DiabetesPedigreeFunction      0\n",
            "Age                           0\n",
            "Class                         0\n",
            "dtype: int64\n"
          ],
          "name": "stdout"
        }
      ]
    },
    {
      "metadata": {
        "id": "g56TBvuZEMHq",
        "colab_type": "code",
        "outputId": "82dbd861-f62b-4bb3-bb53-df5aff87a00d",
        "colab": {
          "base_uri": "https://localhost:8080/",
          "height": 187
        }
      },
      "cell_type": "code",
      "source": [
        "#pima_indias_diabetes_data.dropna(inplace=True)\n",
        "\n",
        "print(pima_indias_diabetes_data.isnull().sum())\n"
      ],
      "execution_count": 0,
      "outputs": [
        {
          "output_type": "stream",
          "text": [
            "Pregnancies                   0\n",
            "Glucose                       0\n",
            "BloodPressure                35\n",
            "SkinThickness               227\n",
            "Insulin                       0\n",
            "BMI                          11\n",
            "DiabetesPedigreeFunction      0\n",
            "Age                           0\n",
            "Class                         0\n",
            "dtype: int64\n"
          ],
          "name": "stdout"
        }
      ]
    },
    {
      "metadata": {
        "id": "jsR0oM0eVNwm",
        "colab_type": "code",
        "outputId": "e1f0c513-9f03-414e-d658-e9615c330bdf",
        "colab": {
          "base_uri": "https://localhost:8080/",
          "height": 34
        }
      },
      "cell_type": "code",
      "source": [
        "pima_indias_diabetes_data.shape"
      ],
      "execution_count": 0,
      "outputs": [
        {
          "output_type": "execute_result",
          "data": {
            "text/plain": [
              "(767, 9)"
            ]
          },
          "metadata": {
            "tags": []
          },
          "execution_count": 15
        }
      ]
    },
    {
      "metadata": {
        "id": "1SB0wUKHEonR",
        "colab_type": "text"
      },
      "cell_type": "markdown",
      "source": [
        "After processing the missing  data split data and build new model with new train dataset and test he accuracy."
      ]
    },
    {
      "metadata": {
        "id": "1plSN5jeG2h2",
        "colab_type": "code",
        "colab": {}
      },
      "cell_type": "code",
      "source": [
        "processed_features = pima_indias_diabetes_data.drop('Class', axis = 1)\n",
        "processed_labels = pima_indias_diabetes_data['Class']\n",
        "\n",
        "#scaler = StandardScaler()\n",
        "#normal_processed_features = scaler.fit_transform(processed_features)"
      ],
      "execution_count": 0,
      "outputs": []
    },
    {
      "metadata": {
        "id": "ksgYIW8vEn-J",
        "colab_type": "code",
        "outputId": "5657fc17-fa48-428e-d36c-bc490adf457a",
        "colab": {
          "base_uri": "https://localhost:8080/",
          "height": 111
        }
      },
      "cell_type": "code",
      "source": [
        "processed_test_accuracy_iterations =[]\n",
        "# for 10 iterations\n",
        "for i in range(10):\n",
        "  p_features_train, p_labels_train, p_features_test, p_labels_test = train_test_split(processed_features.values, processed_labels.values, test_size=0.2)\n",
        "  p_nb = GaussianNaiveBayes()\n",
        "\n",
        "  p_nb.fit(p_features_train, p_labels_train)\n",
        "  p_test_accuracy = p_nb.score(p_features_test, p_labels_test)\n",
        "  processed_test_accuracy_iterations.append(p_test_accuracy)\n",
        "\n",
        "print(processed_test_accuracy_iterations)\n",
        "print(\"Average test accuracy for processed data\", np.mean(processed_test_accuracy_iterations))"
      ],
      "execution_count": 0,
      "outputs": [
        {
          "output_type": "stream",
          "text": [
            "[0.7425149700598802, 0.7425149700598802, 0.7425149700598802, 0.7425149700598802, 0.7425149700598802, 0.7425149700598802, 0.7425149700598802, 0.7425149700598802, 0.7425149700598802, 0.7425149700598802]\n",
            "Average test accuracy for processed data 0.7425149700598802\n"
          ],
          "name": "stdout"
        }
      ]
    },
    {
      "metadata": {
        "id": "NT_iWmSjPjcG",
        "colab_type": "text"
      },
      "cell_type": "markdown",
      "source": [
        "## References\n",
        "Following are various resources referred while writing this solution\n",
        "\n",
        "*   Github projects https://github.com/sriharshams/mlnd/\n",
        "*   Code of codyznash https://github.com/codyznash/GANs_for_Credit_Card_Data\n",
        "*   Tutorials of https://machinelearningmastery.com/naive-bayes-classifier-scratch-python/\n",
        "*   [Naive Bayes in Scikit-Learn](https://github.com/scikit-learn/scikit-learn/blob/7389dba/sklearn/naive_bayes.py#L107): Implementation of naive bayes in the scikit-learn library.\n",
        "*   [ ML from scratch] (https://github.com/eriklindernoren/ML-From-Scratch)\n",
        "*   [Naive Bayes documentation](https://scikit-learn.org/stable/modules/naive_bayes.html): Scikit-Learn documentation and sample code for Naive Bayes\n",
        "*   Naive Bayes Classifiers https://www.geeksforgeeks.org/naive-bayes-classifiers/\n",
        "*   [Naive Bayes Classifier From Scratch](https://chrisalbon.com/machine_learning/naive_bayes/naive_bayes_classifier_from_scratch/)\n",
        "*   https://chrisalbon.com/machine_learning/naive_bayes/naive_bayes_classifier_from_scratch/\n",
        "*   Naive Bayes from scratch in python http://kenzotakahashi.github.io/naive-bayes-from-scratch-in-python.html\n",
        "*   [Applied Machine Learning, D.A. Forsyth, (approximate 18'th draft)](http://luthuli.cs.uiuc.edu/~daf/courses/AML-18-Fall/AMLbook-3-Dec-18.pdf)\n",
        "*   Piazza & Slack discussions on CS-498 Spring 2019\n",
        "\n",
        "\n",
        "\n"
      ]
    }
  ]
}