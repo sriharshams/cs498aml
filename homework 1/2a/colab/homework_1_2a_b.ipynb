{
  "nbformat": 4,
  "nbformat_minor": 0,
  "metadata": {
    "colab": {
      "name": "homework_1_2a_b.ipynb",
      "version": "0.3.2",
      "provenance": [],
      "collapsed_sections": [],
      "toc_visible": true,
      "include_colab_link": true
    },
    "kernelspec": {
      "name": "python3",
      "display_name": "Python 3"
    },
    "accelerator": "GPU"
  },
  "cells": [
    {
      "cell_type": "markdown",
      "metadata": {
        "id": "view-in-github",
        "colab_type": "text"
      },
      "source": [
        "<a href=\"https://colab.research.google.com/github/sriharshams/cs498aml/blob/master/homework%201/2a/colab/homework_1_2a_b.ipynb\" target=\"_parent\"><img src=\"https://colab.research.google.com/assets/colab-badge.svg\" alt=\"Open In Colab\"/></a>"
      ]
    },
    {
      "metadata": {
        "id": "Fi4COM4M9yGV",
        "colab_type": "text"
      },
      "cell_type": "markdown",
      "source": [
        "# Homework 1: Question 2\n"
      ]
    },
    {
      "metadata": {
        "id": "6N1SrFOn-tBJ",
        "colab_type": "text"
      },
      "cell_type": "markdown",
      "source": [
        "## Problem 2: MNIST Image Classification\n",
        "\n",
        "Points: 60\n",
        "\n",
        "The MNIST dataset is a dataset of 60,000 training and 10,000 test examples of handwritten digits, originally constructed by Yann Lecun, Corinna Cortes, and Christopher J.C. Burges. It is very widely used to check simple methods. There are 10 classes in total (\"0\" to \"9\"). This dataset has been extensively studied, and there is a history of methods and feature constructions at https://en.wikipedia.org/wiki/MNIST_database and at the original site, http://yann.lecun.com/exdb/mnist/. You should notice that the best methods perform extremely well.\n",
        "\n",
        "(Updated 1/19) The http://yann.lecun.com/exdb/mnist/ dataset is stored in an unusual format, described in detail on the page.  You do not have to write your own reader.  A web search should yield solutions for both Python and R.  For Python, https://pypi.org/project/python-mnist/ should work.  For R, there is reader code available at https://stackoverflow.com/questions/21521571/how-to-read-mnist-database-in-r. Please note that if you follow the recommendations in the accepted answer there at https://stackoverflow.com/a/21524980, you must also provide the readBin call with the flag signed=FALSE since the data values are stored as unsigned integers.\n",
        "\n",
        "The dataset consists of 28 x 28 images. These were originally binary images, but appear to be grey level images as a result of some anti-aliasing. I will ignore mid-grey pixels (there aren't many of them) and call dark pixels \"ink pixels\", and light pixels \"paper pixels\"; you can modify the data values with a threshold to specify the distinction, as described here https://en.wikipedia.org/wiki/Thresholding_(image_processing). The digit has been centered in the image by centering the center of gravity of the image pixels, but as mentioned on the original site, this is probably not ideal. Here are some options for re-centering the digits that I will refer to in the exercises.\n",
        "\n",
        "Untouched: Do not re-center the digits, but use the images as is.\n",
        "Bounding box: Construct a 20 x 20 bounding box so that the horizontal (resp. vertical) range of ink pixels is centered in the box.\n",
        "Stretched bounding box: Construct a 20 x 20 bounding box so that the horizontal (resp. vertical) range of ink pixels runs the full horizontal (resp. vertical) range of the box. Obtaining this representation will involve rescaling image pixels: you find the horizontal and vertical ink range, cut that out of the original image, then resize the result to 20 x 20. Once the image has been re-centered, you can compute features.\n",
        "Here are some pictures, which may help\n",
        "bounding box\n",
        "\n",
        "![mnist_image](https://courses.engr.illinois.edu/cs498aml/sp2019/homeworks/bounding_v2.png)"
      ]
    },
    {
      "metadata": {
        "id": "1-f4BABS-v-t",
        "colab_type": "text"
      },
      "cell_type": "markdown",
      "source": [
        "### Part 2A: MNIST using naive Bayes\n",
        "Model each class of the dataset using a Normal distribution and (separately) a Bernoulli distribution for both untouched images v. stretched bounding boxes, using 20 x 20 for your bounding box dimension.  This should result in 4 total models.  Use the training set to calculate the distribution parameters.\n",
        "\n",
        "You must write the naive Bayes prediction code.  The distribution parameters can be calculated manually or via libraries.  Additionally, we recommend using a library to load the MNIST data (e.g. python-mnist or scikit-learn) and to rescale the images (e.g. openCV).\n",
        "\n",
        "Compute the accuracy values for the four combinations of Normal v. Bernoulli distributions for both untouched images v. stretched bounding boxes.  Both the training and test set accuracy will be reported.\n",
        "For each digit, plot the mean pixel values calculated for the Normal distribution of the untouched images.  In Python, a library such as matplotlib should prove useful.\n",
        "\n"
      ]
    },
    {
      "metadata": {
        "id": "Ijskeolk-zKP",
        "colab_type": "text"
      },
      "cell_type": "markdown",
      "source": [
        "### Answer Part 2A:\n",
        "\n",
        "To build a somple naive Bayes classifier to classify  MNIST data dataset. We will be using Python 3 in Google Colab.\n",
        "\n"
      ]
    },
    {
      "metadata": {
        "id": "zlj6Uo78-3UP",
        "colab_type": "text"
      },
      "cell_type": "markdown",
      "source": [
        "#### Set up\n",
        "\n",
        "Load required libraries\n"
      ]
    },
    {
      "metadata": {
        "id": "VAKHajxHkueU",
        "colab_type": "code",
        "outputId": "80ba98b1-8a49-4c2f-991a-010c06f164c6",
        "colab": {
          "base_uri": "https://localhost:8080/",
          "height": 153
        }
      },
      "cell_type": "code",
      "source": [
        "!pip install --upgrade --force-reinstall python-mnist"
      ],
      "execution_count": 0,
      "outputs": [
        {
          "output_type": "stream",
          "text": [
            "Collecting python-mnist\n",
            "  Downloading https://files.pythonhosted.org/packages/05/9c/f1c1e4d011b01ac436bba0ac6715b3f988bb7f8fec6f21f89cf820aa33e1/python-mnist-0.6.tar.gz\n",
            "Building wheels for collected packages: python-mnist\n",
            "  Running setup.py bdist_wheel for python-mnist ... \u001b[?25l-\b \bdone\n",
            "\u001b[?25h  Stored in directory: /root/.cache/pip/wheels/28/29/36/408f83545a511c43d03ef997a1dc99b49ccd5f9f306ed92468\n",
            "Successfully built python-mnist\n",
            "Installing collected packages: python-mnist\n",
            "Successfully installed python-mnist-0.6\n"
          ],
          "name": "stdout"
        }
      ]
    },
    {
      "metadata": {
        "id": "dxgEimS8-Zm5",
        "colab_type": "code",
        "colab": {}
      },
      "cell_type": "code",
      "source": [
        "import pandas as pd\n",
        "import numpy as np\n",
        "from scipy.stats import norm\n",
        "from scipy.stats import bernoulli\n",
        "from mnist import MNIST\n",
        "import matplotlib.pyplot as plt\n",
        "import cv2\n",
        "from sklearn.ensemble import RandomForestClassifier\n",
        "from sklearn import naive_bayes\n",
        "import warnings\n",
        "warnings.filterwarnings(\"ignore\")"
      ],
      "execution_count": 0,
      "outputs": []
    },
    {
      "metadata": {
        "id": "yudeTpFg-kMd",
        "colab_type": "text"
      },
      "cell_type": "markdown",
      "source": [
        "#### Load dataset\n",
        "\n",
        "Access http://yann.lecun.com/exdb/mnist/, download the dataset.\n",
        "\n",
        "There are 4 files:\n",
        "\n",
        "train-images-idx3-ubyte: training set images \n",
        "\n",
        "train-labels-idx1-ubyte: training set labels \n",
        "\n",
        "t10k-images-idx3-ubyte:  test set images \n",
        "\n",
        "t10k-labels-idx1-ubyte:  test set labels\n",
        "\n",
        "The training set contains 60000 examples, and the test set 10000 examples.\n",
        "\n",
        "\n",
        "\n",
        "\n",
        "\n",
        "\n",
        "\n"
      ]
    },
    {
      "metadata": {
        "id": "GRGrhZ5xC2g5",
        "colab_type": "text"
      },
      "cell_type": "markdown",
      "source": [
        "##### Dataset dictionary\n",
        "\n",
        "TRAINING SET LABEL FILE (train-labels-idx1-ubyte):\n",
        "\n",
        "[offset] [type]          [value]          [description] \n",
        "\n",
        "0000     32 bit integer  0x00000801(2049) magic number (MSB first) \n",
        "\n",
        "0004     32 bit integer  60000            number of items \n",
        "\n",
        "0008     unsigned byte   ??               label \n",
        "\n",
        "0009     unsigned byte   ??               label \n",
        "\n",
        "........ \n",
        "\n",
        "xxxx     unsigned byte   ??               label\n",
        "\n",
        "The labels values are 0 to 9.\n",
        "\n",
        "\n",
        "TRAINING SET IMAGE FILE (train-images-idx3-ubyte):\n",
        "\n",
        "[offset] [type]          [value]          [description] \n",
        "\n",
        "0000     32 bit integer  0x00000803(2051) magic number \n",
        "\n",
        "0004     32 bit integer  60000            number of images \n",
        "\n",
        "0008     32 bit integer  28               number of rows \n",
        "\n",
        "0012     32 bit integer  28               number of columns \n",
        "\n",
        "0016     unsigned byte   ??               pixel \n",
        "\n",
        "0017     unsigned byte   ??               pixel \n",
        "\n",
        "........ \n",
        "\n",
        "xxxx     unsigned byte   ??               pixel\n",
        "\n",
        "Pixels are organized row-wise. Pixel values are 0 to 255. 0 means background (white), 255 means foreground (black).\n",
        "\n",
        "\n",
        "TEST SET LABEL FILE (t10k-labels-idx1-ubyte):\n",
        "\n",
        "[offset] [type]          [value]          [description] \n",
        "\n",
        "0000     32 bit integer  0x00000801(2049) magic number (MSB first) \n",
        "\n",
        "0004     32 bit integer  10000            number of items \n",
        "\n",
        "0008     unsigned byte   ??               label \n",
        "\n",
        "0009     unsigned byte   ??               label \n",
        "\n",
        "........ \n",
        "\n",
        "xxxx     unsigned byte   ??               label\n",
        "\n",
        "The labels values are 0 to 9.\n",
        "\n",
        "\n",
        "TEST SET IMAGE FILE (t10k-images-idx3-ubyte):\n",
        "\n",
        "[offset] [type]          [value]          [description] \n",
        "\n",
        "0000     32 bit integer  0x00000803(2051) magic number \n",
        "\n",
        "0004     32 bit integer  10000            number of images \n",
        "\n",
        "0008     32 bit integer  28               number of rows \n",
        "\n",
        "0012     32 bit integer  28               number of columns \n",
        "\n",
        "0016     unsigned byte   ??               pixel \n",
        "\n",
        "0017     unsigned byte   ??               pixel \n",
        "\n",
        "........ \n",
        "\n",
        "xxxx     unsigned byte   ??               pixel\n",
        "\n",
        "Pixels are organized row-wise. Pixel values are 0 to 255. 0 means background (white), 255 means foreground (black). \n",
        "\n"
      ]
    },
    {
      "metadata": {
        "id": "dTArnj7-C8jI",
        "colab_type": "text"
      },
      "cell_type": "markdown",
      "source": [
        "To access the dataset in Google Colab you can either use Github or Google Drive. We will be accessing dataset via Google Drive. Unzip the pimaindiansdiabetescsv.zip, add pima-indians-diabetes.csv to a known folder in Google Drive, this folder path in drive will be accessed later to load dataset.\n",
        "\n",
        "\n",
        "We added the pima-indians-diabetes.csv to Google Drive folder /My Drive/UISC-MCS-DS/CS498AML/homework_1/2a/data/."
      ]
    },
    {
      "metadata": {
        "id": "AtxTKvC-A1zJ",
        "colab_type": "text"
      },
      "cell_type": "markdown",
      "source": [
        "*   Mount Google Drive to access data Note: This is not required if you are not using Google colab\n",
        "\n"
      ]
    },
    {
      "metadata": {
        "id": "fJ4mDDgm-gLW",
        "colab_type": "code",
        "outputId": "3c4bb849-51f2-4542-bb87-5f1eccb7282a",
        "colab": {
          "base_uri": "https://localhost:8080/",
          "height": 122
        }
      },
      "cell_type": "code",
      "source": [
        "from google.colab import drive\n",
        "drive.mount('/content/gdrive')"
      ],
      "execution_count": 0,
      "outputs": [
        {
          "output_type": "stream",
          "text": [
            "Go to this URL in a browser: https://accounts.google.com/o/oauth2/auth?client_id=947318989803-6bn6qk8qdgf4n4g3pfee6491hc0brc4i.apps.googleusercontent.com&redirect_uri=urn%3Aietf%3Awg%3Aoauth%3A2.0%3Aoob&scope=email%20https%3A%2F%2Fwww.googleapis.com%2Fauth%2Fdocs.test%20https%3A%2F%2Fwww.googleapis.com%2Fauth%2Fdrive%20https%3A%2F%2Fwww.googleapis.com%2Fauth%2Fdrive.photos.readonly%20https%3A%2F%2Fwww.googleapis.com%2Fauth%2Fpeopleapi.readonly&response_type=code\n",
            "\n",
            "Enter your authorization code:\n",
            "··········\n",
            "Mounted at /content/gdrive\n"
          ],
          "name": "stdout"
        }
      ]
    },
    {
      "metadata": {
        "id": "Wt_hVDA2BYwc",
        "colab_type": "text"
      },
      "cell_type": "markdown",
      "source": [
        "Reading the dataset \n",
        "\n",
        "Following instructions here https://pypi.org/project/python-mnist/, we were able to load dataset using MNIST library"
      ]
    },
    {
      "metadata": {
        "id": "pmLe23g_BC3N",
        "colab_type": "code",
        "colab": {}
      },
      "cell_type": "code",
      "source": [
        "mndata = MNIST('/content/gdrive/My Drive/UIUC-MCS-DS/CS498AML/homework_1/data')\n",
        "features_train, labels_train = mndata.load_training()\n",
        "features_test, labels_test = mndata.load_testing()\n"
      ],
      "execution_count": 0,
      "outputs": []
    },
    {
      "metadata": {
        "id": "QPz_01WcCQcl",
        "colab_type": "text"
      },
      "cell_type": "markdown",
      "source": [
        "#### Data processing\n",
        "\n"
      ]
    },
    {
      "metadata": {
        "id": "JSUWBp7rCepn",
        "colab_type": "text"
      },
      "cell_type": "markdown",
      "source": [
        "Bounding box: Construct a 20 x 20 bounding box so that the horizontal (resp. vertical) range of ink pixels is centered in the box.\n",
        "\n",
        "Stretched bounding box: Construct a 20 x 20 bounding box so that the horizontal (resp. vertical) range of ink pixels runs the full horizontal (resp. vertical) range of the box. Obtaining this representation will involve rescaling image pixels: you find the horizontal and vertical ink range, cut that out of the original image, then resize the result to 20 x 20. Once the image has been re-centered, you can compute features."
      ]
    },
    {
      "metadata": {
        "id": "xcb1-lG3B8aa",
        "colab_type": "code",
        "colab": {}
      },
      "cell_type": "code",
      "source": [
        "class data_preprocessor():\n",
        "    def __init__(self, image_size=28, thresholding=50, stretched_bb_flag=False, resize=20):\n",
        "        self.image_size = image_size\n",
        "        self.thresholding = thresholding\n",
        "        self.stretched_bb_flag = stretched_bb_flag\n",
        "        self.resize = resize\n",
        "        \n",
        "    \n",
        "        \n",
        "    \n",
        "    def preprocess(self,features):\n",
        "        self.count_features=features.shape[0]        \n",
        "        \n",
        "        if self.stretched_bb_flag: \n",
        "            features_reshape = features.reshape(self.count_features,self.image_size,self.image_size).astype(float)\n",
        "            \n",
        "            features_reshape_stretched_boundingbox = np.zeros((self.count_features,self.resize,self.resize))\n",
        "            \n",
        "            for i in range(self.count_features):\n",
        "                features_reshape_stretched_boundingbox[i]=self.stretched_boundingbox_single(features_reshape[i])\n",
        "            features_reshape_stretched_boundingbox=features_reshape_stretched_boundingbox.reshape(self.count_features,self.resize*self.resize)\n",
        "            \n",
        "            # Image processing, thresholding\n",
        "            features_thresholding = (features_reshape_stretched_boundingbox >self.thresholding).astype(float)*255\n",
        "            \n",
        "            return features_thresholding\n",
        "        \n",
        "        # Image processing, thresholding, threshold at 50\n",
        "        features_thresholding = (features >self.thresholding).astype(float)*255\n",
        "        \n",
        "        return features_thresholding\n",
        "        \n",
        "    def stretched_boundingbox_single(self, img):\n",
        "        lower_bound =  np.where(np.any(img,axis=1))[0][0]\n",
        "        upper_bound =  np.where(np.any(img,axis=1))[0][-1]\n",
        "        left_bound =  np.where(np.any(img,axis=0))[0][0]\n",
        "        right_bound =  np.where(np.any(img,axis=0))[0][-1]\n",
        "        stretched_boundingbox = cv2.resize(img[lower_bound:upper_bound,left_bound:right_bound], (self.resize, self.resize)) \n",
        "        return stretched_boundingbox "
      ],
      "execution_count": 0,
      "outputs": []
    },
    {
      "metadata": {
        "id": "2p4JgJYTFA53",
        "colab_type": "code",
        "outputId": "3c40f6e6-e39d-4929-8ae7-3c0a751c2ba1",
        "colab": {
          "base_uri": "https://localhost:8080/",
          "height": 51
        }
      },
      "cell_type": "code",
      "source": [
        "# Preprocessing option1: Original data (without stretched bounding box) with thresholding\n",
        "img_processor = data_preprocessor(stretched_bb_flag=False)\n",
        "features_train = img_processor.preprocess(np.array(features_train))\n",
        "features_test = img_processor.preprocess(np.array(features_test))\n",
        "\n",
        "# Preprocessing option2: Stretched Bounding Box with thresholding\n",
        "img_processor2 = data_preprocessor(stretched_bb_flag=True)\n",
        "features_train_stretched_boundingbox  = img_processor2.preprocess(np.array(features_train))\n",
        "features_test_test_stretched_boundingbox  = img_processor2.preprocess(np.array(features_test))\n",
        "\n",
        "# Convert labels to array\n",
        "labels_train = np.array(labels_train)\n",
        "labels_test = np.array(labels_test)\n",
        "\n",
        "print(\"training \", features_train.shape)\n",
        "print(\"training \", len(labels_train))"
      ],
      "execution_count": 0,
      "outputs": [
        {
          "output_type": "stream",
          "text": [
            "training  (60000, 784)\n",
            "training  60000\n"
          ],
          "name": "stdout"
        }
      ]
    },
    {
      "metadata": {
        "id": "REI1ZY1LHi7D",
        "colab_type": "text"
      },
      "cell_type": "markdown",
      "source": [
        "There are 60000  images for training.\n",
        "\n"
      ]
    },
    {
      "metadata": {
        "id": "7-nG4djwM9jo",
        "colab_type": "text"
      },
      "cell_type": "markdown",
      "source": [
        "#### Classify Dataset - Build a simple naive Bayes classifier "
      ]
    },
    {
      "metadata": {
        "id": "HoscPQLrnR7v",
        "colab_type": "text"
      },
      "cell_type": "markdown",
      "source": [
        "#### Gaussian Naive Bayes classifier \n",
        "Reusing Gaussian Naive Bayes from Homework 1a"
      ]
    },
    {
      "metadata": {
        "id": "xmR0W9FNu9jp",
        "colab_type": "code",
        "colab": {}
      },
      "cell_type": "code",
      "source": [
        "class GaussianNaiveBayes():\n",
        "    \"\"\"The Gaussian Naive Bayes classifier. \"\"\"\n",
        "    def fit(self,features, labels):\n",
        "      \"\"\"\n",
        "      for each label and feature combination we need to calculate the std and mean value from the features & labels.\n",
        "      \"\"\"\n",
        "      self.min_std = 0.001\n",
        "      self.ntargets= np.unique(labels).shape[0]\n",
        "      self.target_labels = np.unique(labels)\n",
        "      self.nfeatures = features.shape[1]\n",
        "      self.means = np.zeros((self.ntargets,self.nfeatures))\n",
        "      self.stds = np.zeros((self.ntargets,self.nfeatures))\n",
        "      self.priors = np.zeros(self.ntargets)\n",
        "      for _index in range(self.ntargets):\n",
        "          # Get the boolean vector to filter for labels = i\n",
        "          where_label = [label==self.target_labels[_index] for label in labels]\n",
        "          self.means[_index] = np.nanmean(features[where_label],axis=0)\n",
        "          # To avoid devide by 0/very small value issue, add a min for standard deviation to min_std = 0.00000001\n",
        "          self.stds[_index] = np.clip(np.nanstd(features[where_label],axis=0),self.min_std,None)\n",
        "          #print(self.means[_index], self.stds[_index])\n",
        "          #Calculate the prior for given label \n",
        "          self.priors[_index] = np.log(np.sum(where_label)/len(labels))\n",
        "    \n",
        "    def predict(self,test_features):\n",
        "        \"\"\" Classification using Bayes Rule P(Y|X) = P(X|Y)*P(Y)/P(X),\n",
        "          or Posterior = Likelihood * Prior / Scaling Factor\n",
        "          P(Y|X) - The posterior is the probability that sample x is of class y given the\n",
        "                   feature values of x being distributed according to distribution of y and the prior.\n",
        "          P(X|Y) - Likelihood of data X given class distribution Y.\n",
        "                   Gaussian distribution (given by norm.pdf)\n",
        "          P(Y)   - Prior (given by _calculate_prior)\n",
        "          P(X)   - Scales the posterior to make it a proper probability distribution.\n",
        "                   This term is ignored in this implementation since it doesn't affect\n",
        "                   which class distribution the sample is most likely to belong to.\n",
        "         Classifies the sample as the class that results in the largest P(Y|X) (posterior)\n",
        "         \"\"\"\n",
        "        test_samples = test_features.shape[0]\n",
        "        posterior = np.zeros((test_samples,self.ntargets))\n",
        "        # Naive assumption (independence):\n",
        "        # P(x1,x2,x3|Y) = P(x1|Y)*P(x2|Y)*P(x3|Y)\n",
        "        # Posterior is product of prior and likelihoods (ignoring scaling factor)\n",
        "        for target_label in range(self.ntargets):\n",
        "            posterior[:,target_label] = self.priors[target_label] + np.nansum(np.log(norm.pdf(test_features,self.means[target_label],self.stds[target_label])),axis=1)\n",
        "        label = self.target_labels[np.argmax(posterior, axis=1)]\n",
        "        return label    \n",
        "        \n",
        "    \n",
        "    def score(self, features_test, labels_test):\n",
        "        labels_predict = self.predict(features_test)\n",
        "        return (labels_predict == labels_test).mean()"
      ],
      "execution_count": 0,
      "outputs": []
    },
    {
      "metadata": {
        "id": "yJjCf0O0vCT4",
        "colab_type": "text"
      },
      "cell_type": "markdown",
      "source": [
        "#### Bernoulli Naive Bayes classifier \n",
        "Bernoulli Naive Bayes classifier code"
      ]
    },
    {
      "metadata": {
        "id": "sVG8z01GvJXH",
        "colab_type": "code",
        "colab": {}
      },
      "cell_type": "code",
      "source": [
        "class BernoulliNaiveBayes():\n",
        "    \"\"\"The Bernoulli Naive Bayes classifier. \"\"\"\n",
        "        \n",
        "    def fit(self,features, labels):\n",
        "        \"\"\"\n",
        "        for each label and feature combination we need to calculate the std and mean value from the features & labels.\n",
        "        \"\"\"\n",
        "        self.num_of_class = np.unique(labels).shape[0]\n",
        "        self.target_labels = np.unique(labels)\n",
        "        self.num_of_feature = features.shape[1]\n",
        "        self.pblacks = np.zeros((self.num_of_class,self.num_of_feature))\n",
        "        self.priors = np.zeros(self.num_of_class)\n",
        "        for i in range(self.num_of_class):\n",
        "            # Get the boolean vector to filter for y = i\n",
        "            where_label = [l==self.target_labels[i] for l in labels]\n",
        "            self.pblacks[i] = np.mean(features[where_label], axis=0)/255\n",
        "            # calculate priors\n",
        "            self.priors[i] = np.log(np.sum(where_label)/len(labels))\n",
        "    \n",
        "    def predict(self,test_features):\n",
        "        \"\"\" Classification using Bayes Rule P(Y|X) = P(X|Y)*P(Y)/P(X),\n",
        "          or Posterior = Likelihood * Prior / Scaling Factor\n",
        "          P(Y|X) - The posterior is the probability that sample x is of class y given the\n",
        "                   feature values of x being distributed according to distribution of y and the prior.\n",
        "          P(X|Y) - Likelihood of data X given class distribution Y.\n",
        "                   Bernoulli distribution (given by bernoulli.pmf)\n",
        "          P(Y)   - Prior (given by _calculate_prior)\n",
        "          P(X)   - Scales the posterior to make it a proper probability distribution.\n",
        "                   This term is ignored in this implementation since it doesn't affect\n",
        "                   which class distribution the sample is most likely to belong to.\n",
        "         Classifies the sample as the class that results in the largest P(Y|X) (posterior)\n",
        "        \"\"\"\n",
        "        samples = test_features.shape[0]\n",
        "        posterior = np.zeros((samples,self.num_of_class))\n",
        "        for i in range(self.num_of_class):\n",
        "            posterior[:,i] = self.priors[i] + np.sum(np.log(bernoulli.pmf(test_features/255,self.pblacks[i])),axis=1)\n",
        "        label = self.target_labels[np.argmax(posterior, axis=1)]\n",
        "        return label       \n",
        "    \n",
        "    def score(self, features_test, labels_test):\n",
        "        labels_predict = self.predict(features_test)\n",
        "        return (labels_predict == labels_test).mean()  "
      ],
      "execution_count": 0,
      "outputs": []
    },
    {
      "metadata": {
        "id": "FSqMXtYMxpEy",
        "colab_type": "text"
      },
      "cell_type": "markdown",
      "source": [
        "#### Calculate Accuracy"
      ]
    },
    {
      "metadata": {
        "id": "k_tpvUm7xsXI",
        "colab_type": "code",
        "colab": {}
      },
      "cell_type": "code",
      "source": [
        "# Use RandomForestClassifier to classify MNIST\n",
        "from sklearn.ensemble import RandomForestClassifier\n",
        "\n",
        "def calculate_accuracy(stretched_bb_flag, model_name, use_sklearn=False, forest_params=(10,4)):\n",
        "    if stretched_bb_flag:\n",
        "        m_features_train = features_train_stretched_boundingbox\n",
        "        m_features_test = features_test_test_stretched_boundingbox\n",
        "    else:\n",
        "        m_features_train = features_train\n",
        "        m_features_test = features_test\n",
        "    \n",
        "    if use_sklearn == False:\n",
        "        if (model_name =='Normal'):\n",
        "            classifier = GaussianNaiveBayes()\n",
        "        elif (model_name =='Bernoulli'):\n",
        "            classifier = BernoulliNaiveBayes() \n",
        "    else:\n",
        "        if (model_name =='Normal'):\n",
        "            classifier = naive_bayes.GaussianNB()\n",
        "        elif (model_name =='Bernoulli'):\n",
        "            classifier = naive_bayes.BernoulliNB() \n",
        "        # Part 2B: MNIST using Decision Forest\n",
        "        elif (model_name =='decision_forest'):\n",
        "            classifier = RandomForestClassifier(n_estimators=forest_params[0], max_depth= forest_params[1], random_state=4)\n",
        "            \n",
        "    classifier.fit(m_features_train, labels_train)\n",
        "     \n",
        "    \n",
        "    return classifier.score(m_features_train, labels_train), classifier.score(m_features_test, labels_test)"
      ],
      "execution_count": 0,
      "outputs": []
    },
    {
      "metadata": {
        "id": "Q7s6PtKgyNrX",
        "colab_type": "text"
      },
      "cell_type": "markdown",
      "source": [
        "Compute the accuracy values for the four combinations of Normal v. Bernoulli distributions for both untouched images v. stretched bounding boxes.  Both the training and test set accuracy will be reported.\n",
        "\n",
        "Classify MNIST using a decision forest.\n",
        "For your forest construction, you should investigate four cases. Your cases are: number of trees = (10, 30) X maximum depth = (4, 16). You should compute your accuracy for each of the following cases: untouched raw pixels; stretched bounding box. This yields a total of 8 slightly different classifiers. Please use 20 x 20 for your bounding box dimensions."
      ]
    },
    {
      "metadata": {
        "id": "TuDB7YB6yYTo",
        "colab_type": "code",
        "outputId": "acb71dae-4fe9-488a-a5b8-a202b0d51daf",
        "colab": {
          "base_uri": "https://localhost:8080/",
          "height": 85
        }
      },
      "cell_type": "code",
      "source": [
        "print(\"Gaussian + untouched: train & test accuracy- \", calculate_accuracy(False, 'Normal'))\n",
        "\n",
        "print(\"Gaussian + stretched: train & test accuracy- \", calculate_accuracy(True,  'Normal'))\n",
        "\n",
        "print(\"Bernoulli + untouched: train & test accuracy- \", calculate_accuracy(False, 'Bernoulli'))\n",
        "\n",
        "print(\"Bernoulli + stretched: train & test accuracy- \", calculate_accuracy(True, 'Bernoulli'))\n",
        "\n",
        "\n"
      ],
      "execution_count": 0,
      "outputs": [
        {
          "output_type": "stream",
          "text": [
            "Gaussian + untouched: train & test accuracy-  (0.52975, 0.5207)\n",
            "Gaussian + stretched: train & test accuracy-  (0.8130333333333334, 0.8234)\n",
            "Bernoulli + untouched: train & test accuracy-  (0.83645, 0.8445)\n",
            "Bernoulli + stretched: train & test accuracy-  (0.795, 0.8106)\n"
          ],
          "name": "stdout"
        }
      ]
    },
    {
      "metadata": {
        "id": "9cig1EP9yhpb",
        "colab_type": "text"
      },
      "cell_type": "markdown",
      "source": [
        "x | Method | Training Set Accuracy|  Test Set Accuracy\n",
        "--- | --- | ---\n",
        "1 | Gaussian + untouched | 0.46995|0.4631\n",
        "2 | Gaussian + stretched | 0.8130333333333334|0.8234\n",
        "3 | Bernoulli + untouched | 0.83645| 0.8445\n",
        "4 | Bernoulli + stretched | 0.795 | 0.8106 \t \n",
        "\n"
      ]
    },
    {
      "metadata": {
        "id": "tnAFgzeb5hhS",
        "colab_type": "text"
      },
      "cell_type": "markdown",
      "source": [
        "Validate using scikit learn library"
      ]
    },
    {
      "metadata": {
        "id": "Gn4Ap05k5Ngf",
        "colab_type": "code",
        "outputId": "a67d1f0a-5658-4ef2-e52a-4265a485001b",
        "colab": {
          "base_uri": "https://localhost:8080/",
          "height": 85
        }
      },
      "cell_type": "code",
      "source": [
        "print(\"Gaussian + untouched: train & test accuracy- \", calculate_accuracy(False, 'Normal', True))\n",
        "\n",
        "print(\"Gaussian + stretched: train & test accuracy- \", calculate_accuracy(True, 'Normal', use_sklearn=True))\n",
        "\n",
        "print(\"Bernoulli + untouche: train & test accuracy- \", calculate_accuracy(False, 'Bernoulli', use_sklearn=True))\n",
        "\n",
        "print(\"Bernoulli + stretched: train & test accuracy- \", calculate_accuracy(True, 'Bernoulli', use_sklearn=True))\n",
        "\n"
      ],
      "execution_count": 0,
      "outputs": [
        {
          "output_type": "stream",
          "text": [
            "Gaussian + untouched: train & test accuracy-  (0.5455833333333333, 0.5398)\n",
            "Gaussian + stretched: train & test accuracy-  (0.8130333333333334, 0.8234)\n",
            "Bernoulli + untouche: train & test accuracy-  (0.8343666666666667, 0.8445)\n",
            "Bernoulli + stretched: train & test accuracy-  (0.7950166666666667, 0.8107)\n"
          ],
          "name": "stdout"
        }
      ]
    },
    {
      "metadata": {
        "id": "CDUuqVgB3MNq",
        "colab_type": "text"
      },
      "cell_type": "markdown",
      "source": [
        "###  Part 2A Digit Images \n",
        "\n"
      ]
    },
    {
      "metadata": {
        "id": "kernuF3p4j2B",
        "colab_type": "text"
      },
      "cell_type": "markdown",
      "source": [
        "For each digit, plot the mean pixel values calculated for the Normal distribution of the untouched images.  In Python, a library such as matplotlib should prove useful."
      ]
    },
    {
      "metadata": {
        "id": "FSKWSZ2K3QeA",
        "colab_type": "code",
        "outputId": "17c47e3a-437e-418e-a3f7-d65a6873851b",
        "colab": {
          "base_uri": "https://localhost:8080/",
          "height": 211
        }
      },
      "cell_type": "code",
      "source": [
        "from pylab import imshow, show, cm\n",
        "# Visualization Guassian Naive Bayes trained (on original data with thresholding) classifier with mnist datase\n",
        "nb = GaussianNaiveBayes()\n",
        "nb.fit(features_train,labels_train)\n",
        "\n",
        "def view_image(image, label=\"\"):\n",
        "    \"\"\"View a single image.\"\"\"\n",
        "    #print(\"Label: %s\" % label)\n",
        "    imshow(image, cmap=cm.gray)\n",
        "    show()\n",
        "\n",
        "print(\"Normal distribution of untouched images\")\n",
        "for i in range(10):\n",
        "    plt.subplot(4, 5, i+1)\n",
        "    #view_image(nb.means[i].reshape(28,28), i)\n",
        "    imshow(nb.means[i].reshape(28,28),cmap='gray')\n",
        "\n"
      ],
      "execution_count": 0,
      "outputs": [
        {
          "output_type": "stream",
          "text": [
            "Normal distribution of untouched images\n"
          ],
          "name": "stdout"
        },
        {
          "output_type": "display_data",
          "data": {
            "image/png": "[encoded data removed]",
            "text/plain": [
              "<Figure size 576x396 with 10 Axes>"
            ]
          },
          "metadata": {
            "tags": []
          }
        }
      ]
    },
    {
      "metadata": {
        "id": "Qam3U5FVtVWW",
        "colab_type": "code",
        "outputId": "ab9ff053-4433-4fdd-b67e-bba61394fbbb",
        "colab": {
          "base_uri": "https://localhost:8080/",
          "height": 210
        }
      },
      "cell_type": "code",
      "source": [
        "nb_stretched = GaussianNaiveBayes()\n",
        "nb_stretched.fit(features_train_stretched_boundingbox, labels_train)\n",
        "\n",
        "print(\"Normal distribution of stretched images\")    \n",
        "for i in range(10):\n",
        "    plt.subplot(4, 5, i+1)\n",
        "    imshow(nb_stretched.means[i].reshape(20,20),cmap='gray')"
      ],
      "execution_count": 0,
      "outputs": [
        {
          "output_type": "stream",
          "text": [
            "Normal distribution of stretched images\n"
          ],
          "name": "stdout"
        },
        {
          "output_type": "display_data",
          "data": {
            "image/png": "[encoded data removed]",
            "text/plain": [
              "<Figure size 576x396 with 10 Axes>"
            ]
          },
          "metadata": {
            "tags": []
          }
        }
      ]
    },
    {
      "metadata": {
        "id": "9_z7fI4f5UkI",
        "colab_type": "code",
        "outputId": "d517c80b-02a7-476f-ee15-93298fc29a0c",
        "colab": {
          "base_uri": "https://localhost:8080/",
          "height": 211
        }
      },
      "cell_type": "code",
      "source": [
        "bernoulli_nb = BernoulliNaiveBayes()\n",
        "bernoulli_nb.fit(features_train,labels_train)\n",
        "\n",
        "print(\"Bernoulli distribution of untouched images\")\n",
        "for i in range(10):\n",
        "    plt.subplot(4, 5, i+11)\n",
        "    #view_image(np.array(bernoulli_nb.pblacks[i]).reshape(28,28), i)\n",
        "    imshow(np.array(bernoulli_nb.pblacks[i]).reshape(28,28),cmap='gray')"
      ],
      "execution_count": 0,
      "outputs": [
        {
          "output_type": "stream",
          "text": [
            "Bernoulli distribution of untouched images\n"
          ],
          "name": "stdout"
        },
        {
          "output_type": "display_data",
          "data": {
            "image/png": "[encoded data removed]",
            "text/plain": [
              "<Figure size 576x396 with 10 Axes>"
            ]
          },
          "metadata": {
            "tags": []
          }
        }
      ]
    },
    {
      "metadata": {
        "id": "blNKa-catb6t",
        "colab_type": "code",
        "outputId": "23034693-e340-4447-ff66-9bb8ff6f1b22",
        "colab": {
          "base_uri": "https://localhost:8080/",
          "height": 210
        }
      },
      "cell_type": "code",
      "source": [
        "bernoulli_nb_stretched = BernoulliNaiveBayes()\n",
        "bernoulli_nb_stretched.fit(features_train_stretched_boundingbox, labels_train)\n",
        "\n",
        "print(\"BernoulliNaiveBayes distribution of stretched images\")    \n",
        "for i in range(10):\n",
        "    plt.subplot(4, 5, i+1)\n",
        "    imshow(nb_stretched.means[i].reshape(20,20),cmap='gray')"
      ],
      "execution_count": 0,
      "outputs": [
        {
          "output_type": "stream",
          "text": [
            "BernoulliNaiveBayes distribution of stretched images\n"
          ],
          "name": "stdout"
        },
        {
          "output_type": "display_data",
          "data": {
            "image/png": "[encoded data removed]",
            "text/plain": [
              "<Figure size 576x396 with 10 Axes>"
            ]
          },
          "metadata": {
            "tags": []
          }
        }
      ]
    },
    {
      "metadata": {
        "id": "jXWiPVZ_5sTE",
        "colab_type": "text"
      },
      "cell_type": "markdown",
      "source": [
        "## Part 2B: MNIST using Decision Forest\n",
        "\n",
        "Classify MNIST using a decision forest.\n",
        "For your forest construction, you should investigate four cases. Your cases are: number of trees = (10, 30) X maximum depth = (4, 16). You should compute your accuracy for each of the following cases: untouched raw pixels; stretched bounding box. This yields a total of 8 slightly different classifiers. Please use 20 x 20 for your bounding box dimensions.\n",
        "\n"
      ]
    },
    {
      "metadata": {
        "id": "uTVPZzfUACoX",
        "colab_type": "code",
        "outputId": "9924ecb2-4f5f-4802-a32d-6c20e9de5f4e",
        "colab": {
          "base_uri": "https://localhost:8080/",
          "height": 153
        }
      },
      "cell_type": "code",
      "source": [
        "print(\"10 trees + 4 depth + untouched: train & test accuracy- \", calculate_accuracy(False, 'decision_forest', True, (10,4)))\n",
        "\n",
        "print(\"10 trees + 4 depth + stretched: train & test accuracy- \", calculate_accuracy(True, 'decision_forest', True, (10,4)))\n",
        "\n",
        "print(\"10 trees + 16 depth + untouched: train & test accuracy- \", calculate_accuracy(False, 'decision_forest', True, (10,16)))\n",
        "\n",
        "print(\"10 trees + 16 depth + stretched: train & test accuracy- \", calculate_accuracy(True, 'decision_forest', True, (10,16)))\n",
        "\n",
        "print(\"30 trees + 4 depth + untouched: train & test accuracy- \", calculate_accuracy(False, 'decision_forest', True, (30,4)))\n",
        "\n",
        "print(\"30 trees + 4 depth + stretched: train & test accuracy- \", calculate_accuracy(True, 'decision_forest', True, (30,4)))\n",
        "\n",
        "print(\"30 trees + 16 depth + untouched: train & test accuracy- \", calculate_accuracy(False, 'decision_forest', True, (30,16)))\n",
        "\n",
        "print(\"30 trees + 16 depth + stretched: train & test accuracy- \", calculate_accuracy(True, 'decision_forest', True, (30,16)))"
      ],
      "execution_count": 0,
      "outputs": [
        {
          "output_type": "stream",
          "text": [
            "10 trees + 4 depth + untouched: train & test accuracy-  (0.71845, 0.726)\n",
            "10 trees + 4 depth + stretched: train & test accuracy-  (0.7444666666666667, 0.7663)\n",
            "10 trees + 16 depth + untouched: train & test accuracy-  (0.99265, 0.9486)\n",
            "10 trees + 16 depth + stretched: train & test accuracy-  (0.9958333333333333, 0.9549)\n",
            "30 trees + 4 depth + untouched: train & test accuracy-  (0.76895, 0.7792)\n",
            "30 trees + 4 depth + stretched: train & test accuracy-  (0.7681666666666667, 0.7867)\n",
            "30 trees + 16 depth + untouched: train & test accuracy-  (0.9961833333333333, 0.9636)\n",
            "30 trees + 16 depth + stretched: train & test accuracy-  (0.9974, 0.9646)\n"
          ],
          "name": "stdout"
        }
      ]
    },
    {
      "metadata": {
        "id": "5UA4x4hzAJ1a",
        "colab_type": "text"
      },
      "cell_type": "markdown",
      "source": [
        "x | Method | Training Set Accuracy|  Test Set Accuracy\n",
        "--- | --- | ---\n",
        "1 | Gaussian + untouched | 0.46995|0.4631\n",
        "2 | Gaussian + stretched | 0.8130333333333334|0.8234\n",
        "3 | Bernoulli + untouched | 0.83645| 0.8445\n",
        "4 | Bernoulli + stretched | 0.795 | 0.8106 \t \n",
        "5 | 10 trees + 4 depth +  untouched | 0.71845|0.726\n",
        "6 | 10 trees + 4 depth +  stretched | 0.7444666666666667|0.7663\n",
        "7 | 10 trees + 16 depth +  untouched | 0.99265| 0.9486\n",
        "8 | 10 trees + 16 depth +  stretched | 0.9958333333333333 | 0.9549 \n",
        "9 | 30 trees + 4 depth +  untouched | 0.76895|0.7792\n",
        "10 | 30 trees + 4 depth +  stretched | 0.7681666666666667|0.7867\n",
        "11 | 30 trees + 16 depth +  untouched | 0.9961833333333333| 0.9636\n",
        "12| 30 trees + 16 depth +  stretched | 0.9974 | 0.9646"
      ]
    },
    {
      "metadata": {
        "id": "NT_iWmSjPjcG",
        "colab_type": "text"
      },
      "cell_type": "markdown",
      "source": [
        "#### References\n",
        "Following are various resources referred while writing this solution\n",
        "\n",
        "*   My Github projects https://github.com/sriharshams/mlnd/\n",
        "*   Code of codyznash https://github.com/codyznash/GANs_for_Credit_Card_Data\n",
        "*   Tutorials of https://machinelearningmastery.com/naive-bayes-classifier-scratch-python/\n",
        "*   Naive Bayes in Scikit-Learn: Implementation of naive bayes in the scikit-learn library.\n",
        "*   Naive Bayes documentation: Scikit-Learn documentation and sample code for Naive Bayes\n",
        "*  [Classify MNIST with PyBrain](https://martin-thoma.com/classify-mnist-with-pybrain/)\n",
        "*  [Scikit RandomForestClassifier] (https://scikit-learn.org/stable/modules/generated/sklearn.ensemble.RandomForestClassifier.html#sklearn.ensemble.RandomForestClassifier)\n",
        "*   [Applied Machine Learning, D.A. Forsyth, (approximate 18'th draft)](http://luthuli.cs.uiuc.edu/~daf/courses/AML-18-Fall/AMLbook-3-Dec-18.pdf)\n",
        "*   Piazza & Slack discussions on CS-498 Spring 2019\n",
        "\n",
        "\n"
      ]
    }
  ]
}